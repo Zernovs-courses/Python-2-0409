{
 "cells": [
  {
   "cell_type": "markdown",
   "metadata": {},
   "source": [
    "**Реализуйте класс \"Добрый Ифрит\" (`GoodIfrit`)**\n",
    "\n",
    "Экземпляр класса инициализируется с аргументами:\n",
    "* высота\n",
    "* имя\n",
    "* доброта\n",
    "\n",
    "Класс должен реализовывать методы:\n",
    "* `change_goodness(value)` – менять доброту на указанную величину; не может стать отрицательной, в этом случае становится равной 0;\n",
    "* к экземпляру класса можно прибавить число: `(gi1 = gi + number)`, создается новый экземпляр с высотой, большей на величину `number`, остальные характеристики те же;\n",
    "* экземпляр класса можно вызвать с аргументом, возвращается значение: `аргумент * доброта // высота`;\n",
    "* `__str__` – возвращает строку вида: `“Good Ifrit <имя>, height <высота>, goodness <доброта>”`;\n",
    "* экземпляры можно сравнивать между собой: сначала по доброте, затем по высоте, затем по имени по алфавиту; для этого нужно реализовать методы сравнения: `>, <, >=, <=, ==, !=`."
   ]
  },
  {
   "cell_type": "code",
   "execution_count": null,
   "metadata": {},
   "outputs": [],
   "source": [
    "class GoodIfrit:\n",
    "    ### YOUR CODE HERE\n",
    "    pass"
   ]
  },
  {
   "cell_type": "markdown",
   "metadata": {},
   "source": [
    "В файле `ifrits.txt` построчно содержится информация о каждом ифрите в виде 2 чисел: высоты, доброты и имени (строки). Считайте файл и постройте список всех ифритов. Отсортируйте список в порядке возрастания (используя функции сравнения класса)."
   ]
  },
  {
   "cell_type": "code",
   "execution_count": null,
   "metadata": {},
   "outputs": [],
   "source": [
    "def read_ifrits():\n",
    "    ### YOUR CODE HERE\n",
    "    pass\n",
    "\n",
    "ifrits = read_ifrits()"
   ]
  },
  {
   "cell_type": "markdown",
   "metadata": {},
   "source": [
    "В файле `operations.txt` содержится список действий, которые необходимо выполнить со списком ифритов. В каждой строке через пробел содержатся несколько значений: \n",
    "1. номер ифрита в списке;\n",
    "2. операция;\n",
    "3. параметр для операции\n",
    "\n",
    "Номера операций:\n",
    "1. изменение доброты\n",
    "2. сложение с числом\n",
    "3. вызов объекта класса\n",
    "4. сравнение ифритов (после номера операции стоит строка с операцией сравнения, следом номер второго ифрита из списка; например: 4 '>' 5)\n",
    "5. печать строкового представления в файл `result.txt` (в данном случае параметр отсутствует)\n",
    "\n",
    "Считайте данный файл и выполните последовательно все операции. Результат выполнения операций (возвращаемое значение) запишите в файл `result.txt`"
   ]
  },
  {
   "cell_type": "code",
   "execution_count": null,
   "metadata": {},
   "outputs": [],
   "source": [
    "def run_operations():\n",
    "    ### YOUR CODE HERE\n",
    "    pass"
   ]
  },
  {
   "cell_type": "code",
   "execution_count": null,
   "metadata": {},
   "outputs": [],
   "source": [
    "import test\n",
    "\n",
    "test.run_tests(\"\", \"\", 1, GoodIfrit, read_ifrits, run_operations)"
   ]
  }
 ],
 "metadata": {
  "kernelspec": {
   "display_name": "Python 3",
   "language": "python",
   "name": "python3"
  },
  "language_info": {
   "codemirror_mode": {
    "name": "ipython",
    "version": 3
   },
   "file_extension": ".py",
   "mimetype": "text/x-python",
   "name": "python",
   "nbconvert_exporter": "python",
   "pygments_lexer": "ipython3",
   "version": "3.11.6"
  }
 },
 "nbformat": 4,
 "nbformat_minor": 2
}
