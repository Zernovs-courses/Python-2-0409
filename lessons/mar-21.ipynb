{
 "cells": [
  {
   "cell_type": "markdown",
   "metadata": {},
   "source": [
    "# OOP"
   ]
  },
  {
   "cell_type": "markdown",
   "metadata": {},
   "source": [
    "> **Класс** - тип, описывающий устройство объекта\n",
    "\n",
    "> **Объект** - экземпляр класса"
   ]
  },
  {
   "cell_type": "markdown",
   "metadata": {},
   "source": [
    "1. **Абстракция** - наличие абстрактного класса, описывающего свои подклассы. Абстракция - животное, классы: кошки, собачки, человеки... Модель для создания кошки\n",
    "2. **Полиморфизм** - переопределение методов\n",
    "3. **Инкапсуляция** - защита \"приватных\" данных извне класса\n",
    "4. **Наследование** - наследование свойств и методов от родительского класса"
   ]
  },
  {
   "cell_type": "code",
   "execution_count": null,
   "metadata": {},
   "outputs": [],
   "source": [
    "class CLASS: # определяем класс\n",
    "    pass\n",
    "\n",
    "a = CLASS() # создаем экземпляр класса\n",
    "a"
   ]
  },
  {
   "cell_type": "code",
   "execution_count": null,
   "metadata": {},
   "outputs": [],
   "source": [
    "print(a.__dict__)\n",
    "\n",
    "a.arg = 5\n",
    "\n",
    "print(a.__dict__)"
   ]
  },
  {
   "cell_type": "code",
   "execution_count": null,
   "metadata": {},
   "outputs": [],
   "source": [
    "a = CLASS()\n",
    "b = CLASS()\n",
    "print(a.__dict__, b.__dict__)\n",
    "\n",
    "a.arg = 5\n",
    "\n",
    "print(a.__dict__, b.__dict__)"
   ]
  },
  {
   "cell_type": "code",
   "execution_count": null,
   "metadata": {},
   "outputs": [],
   "source": [
    "class CLASS: # определяем класс\n",
    "\n",
    "    def __init__(self, arg: int | None = None): # конструктор класс\n",
    "        self.arg = arg # свойство класса\n",
    "\n",
    "    def method(self, s: str):\n",
    "        return self.arg * s.\n",
    "\n",
    "\n",
    "\n",
    "a = CLASS()\n",
    "b = CLASS(10)\n",
    "print(a.__dict__, b.__dict__)\n",
    "\n",
    "a.arg = 5\n",
    "\n",
    "print(a.__dict__, b.__dict__)\n",
    "\n",
    "print(a.method('some'))"
   ]
  },
  {
   "cell_type": "code",
   "execution_count": null,
   "metadata": {},
   "outputs": [],
   "source": [
    "class CLASS: # определяем класс\n",
    "\n",
    "    def __init__(self): # конструктор класс\n",
    "        self.pub = 10\n",
    "        self._prot = 5\n",
    "        self.__priv = 1\n",
    "\n",
    "    def __priv_met(self):\n",
    "        print(self.__priv)\n",
    "    \n",
    "    def pub_met(self):\n",
    "        self.__priv_met()\n",
    "\n",
    "\n",
    "a = CLASS()"
   ]
  },
  {
   "cell_type": "code",
   "execution_count": null,
   "metadata": {},
   "outputs": [],
   "source": [
    "a.__priv_met()"
   ]
  },
  {
   "cell_type": "code",
   "execution_count": null,
   "metadata": {},
   "outputs": [],
   "source": [
    "a.pub_met()"
   ]
  },
  {
   "cell_type": "markdown",
   "metadata": {},
   "source": [
    "---"
   ]
  },
  {
   "cell_type": "markdown",
   "metadata": {},
   "source": [
    "Синтаксис класса:\n",
    "```py\n",
    "class <название_класса>:\n",
    "    <тело_класс>\n",
    "```\n",
    "\n",
    "Создание объекта класса:\n",
    "```py\n",
    "<имя_объекта> = <имя_класса>()\n",
    "```"
   ]
  },
  {
   "cell_type": "code",
   "execution_count": null,
   "metadata": {},
   "outputs": [],
   "source": [
    "class Car:\n",
    "    pass\n",
    "\n",
    "car_object = Car()"
   ]
  },
  {
   "cell_type": "markdown",
   "metadata": {},
   "source": [
    "Встроенные атрибуты:\n",
    "\n",
    "* `__new__` - конструктор класса\n",
    "* `__init__` - инициализатор\n",
    "* `__del__` - деструктор\n",
    "* `__str__` - строковое представление\n",
    "* `__hash__` хэш-сумма объекта\n",
    "* `__setattr__` - создает новый атрибут\n",
    "* `__doc__` - документация\n",
    "* `__dict__` - словарь, пространство имен класса"
   ]
  },
  {
   "cell_type": "code",
   "execution_count": null,
   "metadata": {},
   "outputs": [],
   "source": [
    "print(car_object)"
   ]
  },
  {
   "cell_type": "code",
   "execution_count": null,
   "metadata": {},
   "outputs": [],
   "source": [
    "dir(car_object)"
   ]
  },
  {
   "cell_type": "code",
   "execution_count": null,
   "metadata": {},
   "outputs": [],
   "source": [
    "class Phone:\n",
    "    color = 'Grey'\n",
    "\n",
    "    def turn_on(self):\n",
    "        pass\n",
    "\n",
    "    def turn_off(self):\n",
    "        pass\n",
    "\n",
    "dir(Phone)"
   ]
  },
  {
   "cell_type": "markdown",
   "metadata": {},
   "source": [
    "**Поля** - свойства или переменные класса\n",
    "\n",
    "1. статические поля\n",
    "2. динамические поля"
   ]
  },
  {
   "cell_type": "code",
   "execution_count": null,
   "metadata": {},
   "outputs": [],
   "source": [
    "class Phone:\n",
    "\n",
    "    #статические поля (переменные класса)\n",
    "    default_color = 'Grey'\n",
    "\n",
    "    def turn_on(self):\n",
    "        pass\n",
    "\n",
    "    def turn_off(self):\n",
    "        pass\n",
    "\n",
    "\n",
    "p = Phone()\n",
    "p.default_color"
   ]
  },
  {
   "cell_type": "code",
   "execution_count": null,
   "metadata": {},
   "outputs": [],
   "source": [
    "p.default_color='Black'\n",
    "p.default_color"
   ]
  },
  {
   "cell_type": "code",
   "execution_count": null,
   "metadata": {},
   "outputs": [],
   "source": [
    "class Phone:\n",
    "\n",
    "    #статические поля (переменные класса)\n",
    "    default_color: str = 'Grey'\n",
    "\n",
    "    def __init__(self, color) -> None:\n",
    "        # динамические поля\n",
    "        self.color = color\n",
    "\n",
    "    def turn_on(self):\n",
    "        pass\n",
    "\n",
    "    def turn_off(self):\n",
    "        pass\n",
    "\n",
    "\n",
    "p = Phone()\n",
    "p.default_color"
   ]
  },
  {
   "cell_type": "markdown",
   "metadata": {},
   "source": [
    "Методы класса:\n",
    "1. методы экземпляра класса (обычные)\n",
    "2. статические методы\n",
    "3. методы класса"
   ]
  },
  {
   "cell_type": "markdown",
   "metadata": {},
   "source": [
    "### Обычные методы"
   ]
  },
  {
   "cell_type": "code",
   "execution_count": null,
   "metadata": {},
   "outputs": [],
   "source": [
    "class Phone:\n",
    "\n",
    "    def __init__(self, color, model) -> None:\n",
    "        self.color = color\n",
    "        self.model = model\n",
    "\n",
    "\n",
    "    # обычный метод\n",
    "    # первый параметр всегда self\n",
    "    def check_sim(self, mobile_operator):\n",
    "        if self.model == 'Redmi 12S' and mobile_operator == 'MTS':\n",
    "            print('Your mobile operator is MTS')\n",
    "\n",
    "\n",
    "p = Phone('red', 'Redmi 12S')\n",
    "p.check_sim('MTS')"
   ]
  },
  {
   "cell_type": "markdown",
   "metadata": {},
   "source": [
    "### Статические методы"
   ]
  },
  {
   "cell_type": "code",
   "execution_count": null,
   "metadata": {},
   "outputs": [],
   "source": []
  },
  {
   "cell_type": "code",
   "execution_count": null,
   "metadata": {},
   "outputs": [],
   "source": [
    "class Phone:\n",
    "\n",
    "    def __init__(self, color, model) -> None:\n",
    "        self.color = color\n",
    "        self.model = model\n",
    "\n",
    "    # статический метод\n",
    "    @staticmethod\n",
    "    def model_hash(model):\n",
    "        if model == 'Redmi 12S':\n",
    "            return 12345\n",
    "        elif model == 'Iphone 10':\n",
    "            return 73682\n",
    "        else:\n",
    "            return None\n",
    "\n",
    "    # обычный метод\n",
    "    # первый параметр всегда self\n",
    "    def check_sim(self, mobile_operator):\n",
    "        if self.model == 'Redmi 12S' and mobile_operator == 'MTS':\n",
    "            print('Your mobile operator is MTS')"
   ]
  },
  {
   "cell_type": "code",
   "execution_count": null,
   "metadata": {},
   "outputs": [],
   "source": [
    "Phone.model_hash('Redmi 12S')"
   ]
  },
  {
   "cell_type": "markdown",
   "metadata": {},
   "source": [
    "### Методы класса"
   ]
  },
  {
   "cell_type": "code",
   "execution_count": null,
   "metadata": {},
   "outputs": [],
   "source": [
    "class Phone:\n",
    "\n",
    "    def __init__(self, color, model) -> None:\n",
    "        self.color = color\n",
    "        self.model = model\n",
    "\n",
    "    # метод класса\n",
    "    # первый всегда параметры cls (class)\n",
    "    @classmethod\n",
    "    def toy_phone(cls, color):\n",
    "        toy_phone = cls(color, 'ToyPhone')\n",
    "        return toy_phone\n",
    "\n",
    "    # статический метод\n",
    "    @staticmethod\n",
    "    def model_hash(model):\n",
    "        if model == 'Redmi 12S':\n",
    "            return 12345\n",
    "        elif model == 'Iphone 10':\n",
    "            return 73682\n",
    "        else:\n",
    "            return None\n",
    "\n",
    "    # обычный метод\n",
    "    # первый параметр всегда self\n",
    "    def check_sim(self, mobile_operator):\n",
    "        if self.model == 'Redmi 12S' and mobile_operator == 'MTS':\n",
    "            print('Your mobile operator is MTS')"
   ]
  },
  {
   "cell_type": "code",
   "execution_count": null,
   "metadata": {},
   "outputs": [],
   "source": [
    "my_toy = Phone.toy_phone('red')\n",
    "my_toy"
   ]
  },
  {
   "cell_type": "markdown",
   "metadata": {},
   "source": [
    "Используется в 2 случаях:\n",
    "1. необходимо создать специфичный объект текущего класса\n",
    "2. реализовать фабричный паттерн - создает объекты различных унаследованных классов прямо внутри метода"
   ]
  },
  {
   "cell_type": "markdown",
   "metadata": {},
   "source": [
    "## Уровни доступа"
   ]
  },
  {
   "cell_type": "markdown",
   "metadata": {},
   "source": []
  },
  {
   "cell_type": "code",
   "execution_count": null,
   "metadata": {},
   "outputs": [],
   "source": [
    "class Phone:\n",
    "\n",
    "    def __init__(self, color):\n",
    "        self.color = color #public\n",
    "\n",
    "phone = Phone('grey')\n",
    "\n",
    "phone.color"
   ]
  },
  {
   "cell_type": "code",
   "execution_count": null,
   "metadata": {},
   "outputs": [],
   "source": [
    "phone.color = 'red'\n",
    "phone.color"
   ]
  },
  {
   "cell_type": "code",
   "execution_count": null,
   "metadata": {},
   "outputs": [],
   "source": [
    "class Phone:\n",
    "\n",
    "    def __init__(self, color):\n",
    "        self._color = color #protected\n",
    "\n",
    "phone = Phone('grey')\n",
    "\n",
    "phone._color"
   ]
  },
  {
   "cell_type": "code",
   "execution_count": null,
   "metadata": {},
   "outputs": [],
   "source": [
    "phone._color = 'red'\n",
    "phone._color"
   ]
  },
  {
   "cell_type": "code",
   "execution_count": null,
   "metadata": {},
   "outputs": [],
   "source": [
    "class Phone:\n",
    "\n",
    "    def __init__(self, color):\n",
    "        self.__color = color #private\n",
    "\n",
    "phone = Phone('grey')\n",
    "\n",
    "phone.__color"
   ]
  },
  {
   "cell_type": "code",
   "execution_count": null,
   "metadata": {},
   "outputs": [],
   "source": [
    "phone.__color = 'red'\n",
    "phone.__color"
   ]
  },
  {
   "cell_type": "markdown",
   "metadata": {},
   "source": [
    "## Property"
   ]
  },
  {
   "cell_type": "code",
   "execution_count": null,
   "metadata": {},
   "outputs": [],
   "source": [
    "class Phone:\n",
    "\n",
    "    def __init__(self, color):\n",
    "        self.__color = color #public\n",
    "    \n",
    "    @property\n",
    "    def color(self):\n",
    "        return self.__color\n",
    "\n",
    "    @color.setter\n",
    "    def color(self, val):\n",
    "        if isinstance(val, str):\n",
    "            self.__color = val\n",
    "        else:\n",
    "            raise ValueError('Color must be str')\n",
    "\n",
    "\n",
    "phone = Phone('grey')\n",
    "\n",
    "phone.color"
   ]
  },
  {
   "cell_type": "code",
   "execution_count": null,
   "metadata": {},
   "outputs": [],
   "source": [
    "phone.color = 'red'\n",
    "phone.color"
   ]
  },
  {
   "cell_type": "code",
   "execution_count": null,
   "metadata": {},
   "outputs": [],
   "source": [
    "phone.color = 221\n",
    "phone.color"
   ]
  },
  {
   "cell_type": "code",
   "execution_count": null,
   "metadata": {},
   "outputs": [],
   "source": [
    "class Phone:\n",
    "\n",
    "    def __init__(self, color):\n",
    "        self.__color = color #public\n",
    "    \n",
    "    def _get_color(self):\n",
    "        return self.__color\n",
    "\n",
    "    def _set_color(self, val):\n",
    "        if isinstance(val, str):\n",
    "            self.__color = val\n",
    "        else:\n",
    "            raise ValueError('Color must be str')\n",
    "        \n",
    "    color = property(\n",
    "        fget=_get_color,\n",
    "        fset=_set_color,\n",
    "        doc=\"String representation of color\"\n",
    "    )\n",
    "\n",
    "\n",
    "phone = Phone('grey')\n",
    "\n",
    "phone.color"
   ]
  },
  {
   "cell_type": "code",
   "execution_count": null,
   "metadata": {},
   "outputs": [],
   "source": [
    "phone.color"
   ]
  },
  {
   "cell_type": "code",
   "execution_count": null,
   "metadata": {},
   "outputs": [],
   "source": [
    "phone.color = 'red'\n",
    "phone.color"
   ]
  },
  {
   "cell_type": "code",
   "execution_count": null,
   "metadata": {},
   "outputs": [],
   "source": [
    "phone.color = 221\n",
    "phone.color"
   ]
  },
  {
   "cell_type": "markdown",
   "metadata": {},
   "source": [
    "## Наследование"
   ]
  },
  {
   "cell_type": "markdown",
   "metadata": {},
   "source": [
    "```py\n",
    "class <имя_класса>(<имя_родителя>)\n",
    "```"
   ]
  },
  {
   "cell_type": "code",
   "execution_count": 38,
   "metadata": {},
   "outputs": [
    {
     "data": {
      "text/plain": [
       "['__class__',\n",
       " '__delattr__',\n",
       " '__dict__',\n",
       " '__dir__',\n",
       " '__doc__',\n",
       " '__eq__',\n",
       " '__format__',\n",
       " '__ge__',\n",
       " '__getattribute__',\n",
       " '__getstate__',\n",
       " '__gt__',\n",
       " '__hash__',\n",
       " '__init__',\n",
       " '__init_subclass__',\n",
       " '__le__',\n",
       " '__lt__',\n",
       " '__module__',\n",
       " '__ne__',\n",
       " '__new__',\n",
       " '__reduce__',\n",
       " '__reduce_ex__',\n",
       " '__repr__',\n",
       " '__setattr__',\n",
       " '__sizeof__',\n",
       " '__str__',\n",
       " '__subclasshook__',\n",
       " '__weakref__',\n",
       " 'call',\n",
       " 'is_on',\n",
       " 'turn_on']"
      ]
     },
     "execution_count": 38,
     "metadata": {},
     "output_type": "execute_result"
    }
   ],
   "source": [
    "class Phone:\n",
    "\n",
    "    def __init__(self) -> None:\n",
    "        self.is_on = False\n",
    "\n",
    "    def turn_on(self):\n",
    "        self.is_on = True\n",
    "\n",
    "    def call(self):\n",
    "        if self.is_on:\n",
    "            print('Calling...')\n",
    "\n",
    "my_phone = Phone()\n",
    "dir(my_phone)"
   ]
  },
  {
   "cell_type": "code",
   "execution_count": null,
   "metadata": {},
   "outputs": [],
   "source": [
    "class MobilePhone(Phone):\n",
    "\n",
    "    def __init__(self) -> None:\n",
    "        super().__init__()\n",
    "        self.battery = 0\n",
    "\n",
    "    def charge(self, num):\n",
    "        self.battery = num\n",
    "        print(f\"Charging battery up to {self.num}%\")\n",
    "\n",
    "\n",
    "my_mobile = MobilePhone()\n",
    "dir(my_mobile)"
   ]
  },
  {
   "cell_type": "code",
   "execution_count": null,
   "metadata": {},
   "outputs": [],
   "source": [
    "my_mobile.turn_on()\n",
    "my_mobile.call()"
   ]
  },
  {
   "cell_type": "markdown",
   "metadata": {},
   "source": [
    "## Полиморфизм"
   ]
  },
  {
   "cell_type": "code",
   "execution_count": 35,
   "metadata": {},
   "outputs": [],
   "source": [
    "class Phone:\n",
    "    def __init__(self) -> None:\n",
    "        self.is_on = False\n",
    "\n",
    "    def turn_on(self):\n",
    "        self.is_on = True\n",
    "\n",
    "    def call(self):\n",
    "        if self.is_on:\n",
    "            print('Calling...')\n",
    "\n",
    "class MobilePhone(Phone):\n",
    "    def __init__(self) -> None:\n",
    "        super().__init__()\n",
    "        self.battery = 0\n",
    "\n",
    "    def turn_on(self):\n",
    "        if self.battery > 0:\n",
    "            return super().turn_on()\n",
    "\n",
    "    def charge(self, num):\n",
    "        self.battery = num\n",
    "        print(f\"Charging battery up to {self.battery}%\")\n"
   ]
  },
  {
   "cell_type": "code",
   "execution_count": 36,
   "metadata": {},
   "outputs": [
    {
     "name": "stdout",
     "output_type": "stream",
     "text": [
      "Charging battery up to 50%\n"
     ]
    },
    {
     "data": {
      "text/plain": [
       "True"
      ]
     },
     "execution_count": 36,
     "metadata": {},
     "output_type": "execute_result"
    }
   ],
   "source": [
    "my_mobile = MobilePhone()\n",
    "my_mobile.charge(50)\n",
    "my_mobile.turn_on()\n",
    "my_mobile.is_on"
   ]
  },
  {
   "cell_type": "code",
   "execution_count": 37,
   "metadata": {},
   "outputs": [
    {
     "data": {
      "text/plain": [
       "True"
      ]
     },
     "execution_count": 37,
     "metadata": {},
     "output_type": "execute_result"
    }
   ],
   "source": [
    "my_phone = Phone()\n",
    "my_mobile.turn_on()\n",
    "my_mobile.is_on"
   ]
  },
  {
   "cell_type": "markdown",
   "metadata": {},
   "source": []
  }
 ],
 "metadata": {
  "kernelspec": {
   "display_name": "Python 3",
   "language": "python",
   "name": "python3"
  },
  "language_info": {
   "codemirror_mode": {
    "name": "ipython",
    "version": 3
   },
   "file_extension": ".py",
   "mimetype": "text/x-python",
   "name": "python",
   "nbconvert_exporter": "python",
   "pygments_lexer": "ipython3",
   "version": "3.11.6"
  }
 },
 "nbformat": 4,
 "nbformat_minor": 2
}
