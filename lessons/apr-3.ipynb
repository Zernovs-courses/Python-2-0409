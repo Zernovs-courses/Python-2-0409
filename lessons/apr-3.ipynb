{
 "cells": [
  {
   "cell_type": "markdown",
   "metadata": {},
   "source": [
    "Класс «Автобус».\n",
    "Класс содержит свойства:\n",
    "- speed (скорость),\n",
    "- capacity (максимальное количество пассажиров),\n",
    "- maxSpeed (максимальная скорость),\n",
    "- passengers (список имен пассажиров),\n",
    "- hasEmptySeats (наличие свободных мест),\n",
    "- seats (словарь мест в автобусе);\n",
    "  \n",
    "методы:\n",
    "\n",
    "- посадка и высадка одного или нескольких пассажиров,\n",
    "- увеличение и уменьшение скорости на заданное значение.\n",
    "- операции \"in\", \"+=\" и \"−=\" (посадка и высадка пассажира(ов) с заданной фамилией)"
   ]
  },
  {
   "cell_type": "code",
   "execution_count": 17,
   "metadata": {},
   "outputs": [
    {
     "data": {
      "text/plain": [
       "True"
      ]
     },
     "execution_count": 17,
     "metadata": {},
     "output_type": "execute_result"
    }
   ],
   "source": [
    "any([True, True, False, False, True])"
   ]
  },
  {
   "cell_type": "code",
   "execution_count": 18,
   "metadata": {},
   "outputs": [
    {
     "data": {
      "text/plain": [
       "False"
      ]
     },
     "execution_count": 18,
     "metadata": {},
     "output_type": "execute_result"
    }
   ],
   "source": [
    "all([True, True, False, False, True])"
   ]
  },
  {
   "cell_type": "code",
   "execution_count": 42,
   "metadata": {},
   "outputs": [
    {
     "name": "stdout",
     "output_type": "stream",
     "text": [
      "{1: None, 2: None, 3: None, 4: None, 5: 'John', 6: None, 7: None, 8: None, 9: None, 10: None}\n",
      "Seat is already taken!\n",
      "Seat is already taken!\n",
      "{1: 'Jane', 2: 'Jimmy', 3: 'Jacklyn', 4: None, 5: 'John', 6: 'Jess', 7: 'Jenifer', 8: 'Jack', 9: None, 10: None}\n",
      "No such passenger!\n",
      "{1: 'Jane', 2: 'Jimmy', 3: 'Jacklyn', 4: None, 5: 'John', 6: 'Jess', 7: None, 8: None, 9: None, 10: None}\n",
      "100\n",
      "3000\n",
      "2900\n",
      "0\n",
      "True False\n",
      "{1: 'Jane', 2: 'Jimmy', 3: 'Jacklyn', 4: 'Jane', 5: 'John', 6: 'Jess', 7: None, 8: None, 9: None, 10: None}\n",
      "{1: None, 2: 'Jimmy', 3: 'Jacklyn', 4: None, 5: 'John', 6: 'Jess', 7: None, 8: None, 9: None, 10: None}\n"
     ]
    }
   ],
   "source": [
    "class Bus:\n",
    "    def __init__(self, capacity, maxSpeed) -> None:\n",
    "        self.capacity = capacity\n",
    "        self.maxSpeed = maxSpeed\n",
    "\n",
    "        self.speed = 0\n",
    "        self.passengers = []\n",
    "        self.hasEmptySeats = True\n",
    "        self.seats = {i + 1: None for i in range(self.capacity)}\n",
    "\n",
    "    def __check_empty_seats(self):\n",
    "        self.hasEmptySeats = any(s is None for s in self.seats.values())\n",
    "\n",
    "    def __onboard_person(self, name, seat):\n",
    "        if self.seats[seat]:\n",
    "            print(\"Seat is already taken!\")\n",
    "            self += name\n",
    "        else:\n",
    "            self.passengers.append(name)\n",
    "            self.seats[seat] = name\n",
    "\n",
    "    def onboarding(self, names: str | list[str], seats: int | list[int]):\n",
    "        if not self.hasEmptySeats:\n",
    "            print(\"Has no empty seats!\")\n",
    "        else:\n",
    "            if isinstance(names, str) and isinstance(seats, int):\n",
    "                self.__onboard_person(names, seats)\n",
    "            elif isinstance(names, (list, tuple)) and isinstance(seats, (list, tuple)):\n",
    "                for i in range(len(names)):\n",
    "                    self.__onboard_person(names[i], seats[i])\n",
    "            \n",
    "            self.__check_empty_seats()\n",
    "\n",
    "    def __land_person(self, name):\n",
    "        if name in self.passengers:\n",
    "            i = self.passengers.index(name)\n",
    "            self.passengers.pop(i)\n",
    "            for s, n in self.seats.items():\n",
    "                if n == name:\n",
    "                    self.seats[s] = None\n",
    "        else:\n",
    "            print(\"No such passenger!\")\n",
    "\n",
    "    def landing(self, names: str | list[str]):\n",
    "        if isinstance(names, str):\n",
    "            self.__land_person(names)\n",
    "        elif isinstance(names, (list, tuple)):\n",
    "            for name in names:\n",
    "                self.__land_person(name)\n",
    "        self.__check_empty_seats()\n",
    "\n",
    "    def increase_speed(self, value):\n",
    "        self.speed = min(self.maxSpeed, self.speed + value)\n",
    "\n",
    "    def decrease_speed(self, value):\n",
    "        self.speed = max(0, self.speed - value)\n",
    "\n",
    "    def __contains__(self, name):\n",
    "        return name in self.passengers\n",
    "\n",
    "    def __iadd__(self, name):\n",
    "        seat = min([i for i, n in self.seats.items() if not n])\n",
    "        self.onboarding(name, seat)\n",
    "        return self\n",
    "\n",
    "    def __isub__(self, name):\n",
    "        self.landing(name)\n",
    "        return self\n",
    "\n",
    "\n",
    "bus = Bus(10, 3000)\n",
    "bus.onboarding(\"John\", 5)\n",
    "print(bus.seats)\n",
    "\n",
    "bus.onboarding(\n",
    "    (\"Jane\", \"Jimmy\", \"Jacklyn\", \"Jack\", \"Jess\", \"Jenifer\"), [5, 2, 1, 8, 6, 7]\n",
    ")\n",
    "print(bus.seats)\n",
    "\n",
    "bus.landing(\"Doris\")\n",
    "bus.landing([\"Jack\", \"Jenifer\"])\n",
    "print(bus.seats)\n",
    "\n",
    "bus.increase_speed(100)\n",
    "print(bus.speed)\n",
    "bus.increase_speed(10000)\n",
    "print(bus.speed)\n",
    "\n",
    "bus.decrease_speed(100)\n",
    "print(bus.speed)\n",
    "bus.decrease_speed(10000)\n",
    "print(bus.speed)\n",
    "\n",
    "print(\"Jess\" in bus, \"Jack\" in bus)\n",
    "\n",
    "bus += \"Jane\"\n",
    "print(bus.seats)\n",
    "bus -= \"Jane\"\n",
    "print(bus.seats)"
   ]
  },
  {
   "cell_type": "code",
   "execution_count": 34,
   "metadata": {},
   "outputs": [
    {
     "data": {
      "text/plain": [
       "[3, 4, 7, 8, 9, 10]"
      ]
     },
     "execution_count": 34,
     "metadata": {},
     "output_type": "execute_result"
    }
   ],
   "source": [
    "[i for i, n in bus.seats.items() if not n]"
   ]
  }
 ],
 "metadata": {
  "kernelspec": {
   "display_name": "Python 3",
   "language": "python",
   "name": "python3"
  },
  "language_info": {
   "codemirror_mode": {
    "name": "ipython",
    "version": 3
   },
   "file_extension": ".py",
   "mimetype": "text/x-python",
   "name": "python",
   "nbconvert_exporter": "python",
   "pygments_lexer": "ipython3",
   "version": "3.11.6"
  }
 },
 "nbformat": 4,
 "nbformat_minor": 2
}
