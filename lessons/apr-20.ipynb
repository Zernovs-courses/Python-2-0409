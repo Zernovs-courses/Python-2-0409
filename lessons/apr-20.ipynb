{
 "cells": [
  {
   "cell_type": "markdown",
   "metadata": {},
   "source": [
    "https://www.codewars.com/kata/5268acac0d3f019add000203/train/python"
   ]
  },
  {
   "cell_type": "markdown",
   "metadata": {},
   "source": [
    "- q1 moves to q2 when given a 1, and stays at q1 when given a 0\n",
    "- q2 moves to q3 when given a 0, and stays at q2 when given a 1\n",
    "- q3 moves to q2 when given a 0 or 1"
   ]
  },
  {
   "cell_type": "code",
   "execution_count": 1,
   "metadata": {},
   "outputs": [
    {
     "data": {
      "text/plain": [
       "(True, True)"
      ]
     },
     "execution_count": 1,
     "metadata": {},
     "output_type": "execute_result"
    }
   ],
   "source": [
    "class Automaton(object):\n",
    "    def __init__(self):\n",
    "        self.state = \"q1\"\n",
    "\n",
    "    def read_commands(self, commands):\n",
    "        for i in commands:\n",
    "            if self.state == \"q1\" and i == \"1\":\n",
    "                self.state = \"q2\"\n",
    "            elif self.state == \"q2\" and i == \"0\":\n",
    "                self.state = \"q3\"\n",
    "            elif self.state == \"q3\":\n",
    "                self.state = \"q2\"\n",
    "\n",
    "        return self.state == \"q2\"\n",
    "\n",
    "\n",
    "my_automaton = Automaton()\n",
    "\n",
    "my_automaton.read_commands([\"1\"]), my_automaton.read_commands([\"1\", \"0\", \"0\", \"1\"])"
   ]
  },
  {
   "cell_type": "markdown",
   "metadata": {},
   "source": [
    "https://www.codewars.com/kata/526d42b6526963598d0004db/train/python"
   ]
  },
  {
   "cell_type": "code",
   "execution_count": null,
   "metadata": {},
   "outputs": [],
   "source": [
    "class CaesarCipher(object):\n",
    "    def __init__(self, shift):\n",
    "        self.shift = shift\n",
    "\n",
    "        encode_dict = {}\n",
    "        decode_dict = {}\n",
    "        for \n",
    "\n",
    "    def encode(self, st):\n",
    "        pass\n",
    "        \n",
    "    def decode(self, st):\n",
    "        pass\n",
    "\n",
    "c = CaesarCipher(5); # creates a CipherHelper with a shift of five\n",
    "c.encode('Codewars') # returns 'HTIJBFWX'\n",
    "c.decode('BFKKQJX') # returns 'WAFFLES'"
   ]
  },
  {
   "cell_type": "code",
   "execution_count": 19,
   "metadata": {},
   "outputs": [
    {
     "name": "stdout",
     "output_type": "stream",
     "text": [
      "HTIJBFWX\n",
      "WAFFLES\n"
     ]
    }
   ],
   "source": [
    "class CaesarCipher(object):\n",
    "    def __init__(self, shift: int):\n",
    "        self.shift = shift\n",
    "\n",
    "    def encode(self, st: str):\n",
    "        st = st.upper()\n",
    "        res = []\n",
    "        for a in st:\n",
    "            if a.isalpha():\n",
    "                code = ord(a) + self.shift\n",
    "                if code > 90:\n",
    "                    code -= 26\n",
    "                res.append(chr(code))\n",
    "            else:\n",
    "                res.append(a)\n",
    "        \n",
    "        return ''.join(res)\n",
    "\n",
    "        \n",
    "    def decode(self, st: str):\n",
    "        st = st.upper()\n",
    "        res = []\n",
    "        for a in st:\n",
    "            if a.isalpha():\n",
    "                code = ord(a) - self.shift\n",
    "                if code < 65:\n",
    "                    code += 26\n",
    "                res.append(chr(code))\n",
    "            else:\n",
    "                res.append(a)\n",
    "        \n",
    "        return ''.join(res)\n",
    "\n",
    "\n",
    "c = CaesarCipher(5); # creates a CipherHelper with a shift of five\n",
    "print(c.encode('Codewars')) # returns 'HTIJBFWX'\n",
    "print(c.decode('BFKKQJX')) # returns 'WAFFLES'"
   ]
  },
  {
   "cell_type": "markdown",
   "metadata": {},
   "source": [
    "https://www.codewars.com/kata/569ff2622f71816610000048/train/python"
   ]
  },
  {
   "cell_type": "code",
   "execution_count": null,
   "metadata": {},
   "outputs": [],
   "source": [
    "from collections import OrderedDict\n",
    "\n",
    "\n",
    "class Array(object):\n",
    "    def __init__(self, arr = []):\n",
    "        self.arr = arr\n",
    "    \n",
    "    def num_elements(self):\n",
    "        return len(self.arr)\n",
    "    \n",
    "    def num_values(self):\n",
    "        return 0\n",
    "    \n",
    "    def start_end(self):\n",
    "        return []\n",
    "        \n",
    "    def range_(self):\n",
    "        return []\n",
    "        \n",
    "    def largest_increas_subseq(self):\n",
    "        return []\n",
    "        \n",
    "    def largest_decreas_subseq(self):\n",
    "        return []\n",
    "        \n",
    "    def __str__(self):\n",
    "        d = OrderedDict()\n",
    "        return str(d)"
   ]
  },
  {
   "cell_type": "markdown",
   "metadata": {},
   "source": [
    "https://www.codewars.com/kata/5264603df227072e6500006d/train/python"
   ]
  },
  {
   "cell_type": "code",
   "execution_count": null,
   "metadata": {},
   "outputs": [],
   "source": [
    "class Jar:\n",
    "    def __init__(self):\n",
    "        self.ingredients = {}\n",
    "\n",
    "    def add(self, amount, kind):\n",
    "        self.ingredients[kind] = self.ingredients.get(kind, 0) + amount\n",
    "\n",
    "    def pour_out(self, amount):\n",
    "        concentrations = {kind:self.get_concentration(kind) for kind in self.ingredients.keys()}\n",
    "\n",
    "        for kind in self.ingredients.keys():\n",
    "            self.ingredients[kind] -= amount * concentrations[kind]\n",
    "\n",
    "    def get_total_amount(self):\n",
    "        return sum(self.ingredients.values())\n",
    "\n",
    "    def get_concentration(self, kind):\n",
    "        if len(self.ingredients):\n",
    "            return self.ingredients.get(kind, 0) / self.get_total_amount()\n",
    "        return 0"
   ]
  },
  {
   "cell_type": "code",
   "execution_count": 1,
   "metadata": {},
   "outputs": [
    {
     "data": {
      "text/plain": [
       "True"
      ]
     },
     "execution_count": 1,
     "metadata": {},
     "output_type": "execute_result"
    }
   ],
   "source": [
    "True | False"
   ]
  },
  {
   "cell_type": "code",
   "execution_count": 2,
   "metadata": {},
   "outputs": [
    {
     "data": {
      "text/plain": [
       "function"
      ]
     },
     "execution_count": 2,
     "metadata": {},
     "output_type": "execute_result"
    }
   ],
   "source": [
    "def foo():\n",
    "    pass\n",
    "\n",
    "type(foo)"
   ]
  },
  {
   "cell_type": "code",
   "execution_count": 3,
   "metadata": {},
   "outputs": [
    {
     "data": {
      "text/plain": [
       "{}"
      ]
     },
     "execution_count": 3,
     "metadata": {},
     "output_type": "execute_result"
    }
   ],
   "source": [
    "foo.__dict__"
   ]
  },
  {
   "cell_type": "code",
   "execution_count": null,
   "metadata": {},
   "outputs": [],
   "source": [
    "class MyClass:\n",
    "    pass\n",
    "\n",
    "\n",
    "def class_name_changer(cls, new_name: str):\n",
    "    if not (\n",
    "        new_name\n",
    "        and new_name.isalnum()\n",
    "        and new_name[0].isupper()\n",
    "        and new_name[0].isalpha()\n",
    "    ):\n",
    "        raise ValueError()\n",
    "    cls.__name__ = new_name"
   ]
  },
  {
   "cell_type": "code",
   "execution_count": 21,
   "metadata": {},
   "outputs": [
    {
     "name": "stdout",
     "output_type": "stream",
     "text": [
      "{'num_soldiers': 1000, 'num_tanks': 10, '__module__': '__main__', '__dict__': <attribute '__dict__' of 'ArmyClass' objects>, '__weakref__': <attribute '__weakref__' of 'ArmyClass' objects>, '__doc__': None}\n"
     ]
    },
    {
     "data": {
      "text/plain": [
       "(1000, 10)"
      ]
     },
     "execution_count": 21,
     "metadata": {},
     "output_type": "execute_result"
    }
   ],
   "source": [
    "def create_class(class_name, secrets):\n",
    "    \n",
    "\n",
    "\n",
    "res = create_class(\"ArmyClass\", {\"num_soldiers\": 1000, \"num_tanks\": 10})\n",
    "obj = res()\n",
    "print(res.__dict__)\n",
    "res.num_soldiers, res.num_tanks"
   ]
  },
  {
   "cell_type": "code",
   "execution_count": 20,
   "metadata": {},
   "outputs": [
    {
     "name": "stdout",
     "output_type": "stream",
     "text": [
      "10\n"
     ]
    },
    {
     "ename": "ValueError",
     "evalue": "Kilograms can only be numbers",
     "output_type": "error",
     "traceback": [
      "\u001b[0;31m---------------------------------------------------------------------------\u001b[0m",
      "\u001b[0;31mValueError\u001b[0m                                Traceback (most recent call last)",
      "Cell \u001b[0;32mIn[20], line 21\u001b[0m\n\u001b[1;32m     19\u001b[0m a \u001b[38;5;241m=\u001b[39m KgToPounds(\u001b[38;5;241m10\u001b[39m)\n\u001b[1;32m     20\u001b[0m \u001b[38;5;28mprint\u001b[39m(a\u001b[38;5;241m.\u001b[39mkg)\n\u001b[0;32m---> 21\u001b[0m \u001b[43ma\u001b[49m\u001b[38;5;241;43m.\u001b[39;49m\u001b[43mkg\u001b[49m \u001b[38;5;241m=\u001b[39m \u001b[38;5;124m'\u001b[39m\u001b[38;5;124mksdlj\u001b[39m\u001b[38;5;124m'\u001b[39m\n\u001b[1;32m     22\u001b[0m \u001b[38;5;28mprint\u001b[39m(a\u001b[38;5;241m.\u001b[39mkg)\n",
      "Cell \u001b[0;32mIn[20], line 17\u001b[0m, in \u001b[0;36mKgToPounds.kg\u001b[0;34m(self, new_kg)\u001b[0m\n\u001b[1;32m     15\u001b[0m     \u001b[38;5;28mself\u001b[39m\u001b[38;5;241m.\u001b[39m__kg \u001b[38;5;241m=\u001b[39m new_kg\n\u001b[1;32m     16\u001b[0m \u001b[38;5;28;01melse\u001b[39;00m:\n\u001b[0;32m---> 17\u001b[0m     \u001b[38;5;28;01mraise\u001b[39;00m \u001b[38;5;167;01mValueError\u001b[39;00m(\u001b[38;5;124m\"\u001b[39m\u001b[38;5;124mKilograms can only be numbers\u001b[39m\u001b[38;5;124m\"\u001b[39m)\n",
      "\u001b[0;31mValueError\u001b[0m: Kilograms can only be numbers"
     ]
    }
   ],
   "source": [
    "class KgToPounds:\n",
    "    def __init__(self, kg):\n",
    "        self.__kg = kg\n",
    "\n",
    "    def to_pounds(self):\n",
    "        return self.__kg * 2.205\n",
    "\n",
    "    @property\n",
    "    def kg(self):\n",
    "        return self.__kg\n",
    "\n",
    "    @kg.setter\n",
    "    def kg(self, new_kg):\n",
    "        if isinstance(new_kg, (int, float)):\n",
    "            self.__kg = new_kg\n",
    "        else:\n",
    "            raise ValueError(\"Kilograms can only be numbers\")\n",
    "        \n",
    "a = KgToPounds(10)\n",
    "print(a.kg)\n",
    "a.kg = 'ksdlj'\n",
    "print(a.kg)"
   ]
  },
  {
   "cell_type": "code",
   "execution_count": null,
   "metadata": {},
   "outputs": [],
   "source": []
  }
 ],
 "metadata": {
  "kernelspec": {
   "display_name": "Python 3",
   "language": "python",
   "name": "python3"
  },
  "language_info": {
   "codemirror_mode": {
    "name": "ipython",
    "version": 3
   },
   "file_extension": ".py",
   "mimetype": "text/x-python",
   "name": "python",
   "nbconvert_exporter": "python",
   "pygments_lexer": "ipython3",
   "version": "3.11.6"
  }
 },
 "nbformat": 4,
 "nbformat_minor": 2
}
