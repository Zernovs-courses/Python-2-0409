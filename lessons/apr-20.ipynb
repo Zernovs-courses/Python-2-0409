{
 "cells": [
  {
   "cell_type": "markdown",
   "metadata": {},
   "source": [
    "https://www.codewars.com/kata/5268acac0d3f019add000203/train/python"
   ]
  },
  {
   "cell_type": "markdown",
   "metadata": {},
   "source": [
    "- q1 moves to q2 when given a 1, and stays at q1 when given a 0\n",
    "- q2 moves to q3 when given a 0, and stays at q2 when given a 1\n",
    "- q3 moves to q2 when given a 0 or 1"
   ]
  },
  {
   "cell_type": "code",
   "execution_count": 1,
   "metadata": {},
   "outputs": [
    {
     "data": {
      "text/plain": [
       "(True, True)"
      ]
     },
     "execution_count": 1,
     "metadata": {},
     "output_type": "execute_result"
    }
   ],
   "source": [
    "class Automaton(object):\n",
    "    def __init__(self):\n",
    "        self.state = \"q1\"\n",
    "\n",
    "    def read_commands(self, commands):\n",
    "        for i in commands:\n",
    "            if self.state == \"q1\" and i == \"1\":\n",
    "                self.state = \"q2\"\n",
    "            elif self.state == \"q2\" and i == \"0\":\n",
    "                self.state = \"q3\"\n",
    "            elif self.state == \"q3\":\n",
    "                self.state = \"q2\"\n",
    "\n",
    "        return self.state == \"q2\"\n",
    "\n",
    "\n",
    "my_automaton = Automaton()\n",
    "\n",
    "my_automaton.read_commands([\"1\"]), my_automaton.read_commands([\"1\", \"0\", \"0\", \"1\"])"
   ]
  },
  {
   "cell_type": "markdown",
   "metadata": {},
   "source": [
    "https://www.codewars.com/kata/526d42b6526963598d0004db/train/python"
   ]
  },
  {
   "cell_type": "code",
   "execution_count": null,
   "metadata": {},
   "outputs": [],
   "source": [
    "class CaesarCipher(object):\n",
    "    def __init__(self, shift):\n",
    "        self.shift = shift\n",
    "\n",
    "        encode_dict = {}\n",
    "        decode_dict = {}\n",
    "        for \n",
    "\n",
    "    def encode(self, st):\n",
    "        pass\n",
    "        \n",
    "    def decode(self, st):\n",
    "        pass\n",
    "\n",
    "c = CaesarCipher(5); # creates a CipherHelper with a shift of five\n",
    "c.encode('Codewars') # returns 'HTIJBFWX'\n",
    "c.decode('BFKKQJX') # returns 'WAFFLES'"
   ]
  },
  {
   "cell_type": "code",
   "execution_count": 19,
   "metadata": {},
   "outputs": [
    {
     "name": "stdout",
     "output_type": "stream",
     "text": [
      "HTIJBFWX\n",
      "WAFFLES\n"
     ]
    }
   ],
   "source": [
    "class CaesarCipher(object):\n",
    "    def __init__(self, shift: int):\n",
    "        self.shift = shift\n",
    "\n",
    "    def encode(self, st: str):\n",
    "        st = st.upper()\n",
    "        res = []\n",
    "        for a in st:\n",
    "            if a.isalpha():\n",
    "                code = ord(a) + self.shift\n",
    "                if code > 90:\n",
    "                    code -= 26\n",
    "                res.append(chr(code))\n",
    "            else:\n",
    "                res.append(a)\n",
    "        \n",
    "        return ''.join(res)\n",
    "\n",
    "        \n",
    "    def decode(self, st: str):\n",
    "        st = st.upper()\n",
    "        res = []\n",
    "        for a in st:\n",
    "            if a.isalpha():\n",
    "                code = ord(a) - self.shift\n",
    "                if code < 65:\n",
    "                    code += 26\n",
    "                res.append(chr(code))\n",
    "            else:\n",
    "                res.append(a)\n",
    "        \n",
    "        return ''.join(res)\n",
    "\n",
    "\n",
    "c = CaesarCipher(5); # creates a CipherHelper with a shift of five\n",
    "print(c.encode('Codewars')) # returns 'HTIJBFWX'\n",
    "print(c.decode('BFKKQJX')) # returns 'WAFFLES'"
   ]
  },
  {
   "cell_type": "markdown",
   "metadata": {},
   "source": [
    "https://www.codewars.com/kata/569ff2622f71816610000048/train/python"
   ]
  },
  {
   "cell_type": "code",
   "execution_count": null,
   "metadata": {},
   "outputs": [],
   "source": [
    "from collections import OrderedDict\n",
    "\n",
    "\n",
    "class Array(object):\n",
    "    def __init__(self, arr = []):\n",
    "        self.arr = arr\n",
    "    \n",
    "    def num_elements(self):\n",
    "        return len(self.arr)\n",
    "    \n",
    "    def num_values(self):\n",
    "        return 0\n",
    "    \n",
    "    def start_end(self):\n",
    "        return []\n",
    "        \n",
    "    def range_(self):\n",
    "        return []\n",
    "        \n",
    "    def largest_increas_subseq(self):\n",
    "        return []\n",
    "        \n",
    "    def largest_decreas_subseq(self):\n",
    "        return []\n",
    "        \n",
    "    def __str__(self):\n",
    "        d = OrderedDict()\n",
    "        return str(d)"
   ]
  },
  {
   "cell_type": "markdown",
   "metadata": {},
   "source": [
    "https://www.codewars.com/kata/5264603df227072e6500006d/train/python"
   ]
  },
  {
   "cell_type": "code",
   "execution_count": null,
   "metadata": {},
   "outputs": [],
   "source": [
    "class Jar:\n",
    "    def __init__(self):\n",
    "        self.ingredients = {}\n",
    "\n",
    "    def add(self, amount, kind):\n",
    "        self.ingredients[kind] = self.ingredients.get(kind, 0) + amount\n",
    "\n",
    "    def pour_out(self, amount):\n",
    "        concentrations = {kind:self.get_concentration(kind) for kind in self.ingredients.keys()}\n",
    "\n",
    "        for kind in self.ingredients.keys():\n",
    "            self.ingredients[kind] -= amount * concentrations[kind]\n",
    "\n",
    "    def get_total_amount(self):\n",
    "        return sum(self.ingredients.values())\n",
    "\n",
    "    def get_concentration(self, kind):\n",
    "        if len(self.ingredients):\n",
    "            return self.ingredients.get(kind, 0) / self.get_total_amount()\n",
    "        return 0"
   ]
  }
 ],
 "metadata": {
  "kernelspec": {
   "display_name": "Python 3",
   "language": "python",
   "name": "python3"
  },
  "language_info": {
   "codemirror_mode": {
    "name": "ipython",
    "version": 3
   },
   "file_extension": ".py",
   "mimetype": "text/x-python",
   "name": "python",
   "nbconvert_exporter": "python",
   "pygments_lexer": "ipython3",
   "version": "3.11.6"
  }
 },
 "nbformat": 4,
 "nbformat_minor": 2
}
