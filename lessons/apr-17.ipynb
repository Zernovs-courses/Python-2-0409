{
 "cells": [
  {
   "cell_type": "markdown",
   "metadata": {},
   "source": [
    "https://www.codewars.com/kata/64553d6b1a720c030d9e5285/train/python\n",
    "\n",
    "Warcraft Series I - Mining Gold\n",
    "Greetings! The kata is inspired by my favorite strategy game, Warcraft 3, where players control units to gather resources and build their base. In this kata, the goal is to create a program that simulates the process of gathering gold from a mine and transporting it to a base.\n",
    "\n",
    "The Workers are assigned to the gold mine and will automatically begin to gather gold from the mine. Once a Worker has collected a certain amount of gold, it will return to the base to deposit the gold at the Town Hall building.\n",
    "\n",
    "Input\n",
    "The parameter path represents the initial state of the mining field. It has a mine at index 0, represented by the letter \"M\", and a base at index 4, represented by the letter \"B\". The worker is initially positioned at index 2, which is a location between the mine and the base.\n",
    "The parameter time is the number of iterations or ticks that the simulation should run. The method takes the input string, which represents the initial state of the simulation, and simulates the movement of workers for times iterations. The resulting state of the simulation is then converted into a list of strings, where each string represents a row of the grid.\n",
    "\n",
    "```\n",
    "MiningRepresentation.generate(\"M..<B\", 9);\n",
    "```\n",
    "\n",
    "Output\n",
    "The output is a list or an array of strings representing the state of the map after each tick of time until time is over.\n",
    "\n",
    "```\n",
    "M..<B // Worker goes to the mine\n",
    "M.<.B\n",
    "M<..B\n",
    "*...B // Worker is mining gold\n",
    "M>..B\n",
    "M.>.B\n",
    "M..>B\n",
    "M...* // Worker brought the gold\n",
    "M..<B \n",
    "```\n",
    "Explanation:\n",
    "`M` - Mine (location to gather gold)\n",
    "`B` - Base (location to bring gold)\n",
    "`<` or `>` direction where workers go (left/right)\n",
    "`*` - marks that Mine or Base is already busy by other worker\n",
    "`#` - marks collision (two workers at the same tile)\n",
    "Note: Mine and Base cannot contain more than one worker at a time\n",
    "`.` - Empty tile used to represent road between mine and base\n",
    "Example colisions\n",
    "Smooth Colision\n",
    "\n",
    "```\n",
    "\"M>....<B\"\n",
    "\"M.>..<.B\"\n",
    "\"M..><..B\" // smooth collision\n",
    "\"M..<>..B\"\n",
    "\"M.<..>.B\"\n",
    "```\n",
    "Colision on same tile\n",
    "```\n",
    "\"M>...<B\"\n",
    "\"M.>.<.B\"\n",
    "\"M..#..B\" // two workers on same tile\n",
    "\"M.<.>.B\"\n",
    "\"M<...>B\"\n",
    "```\n",
    "\n",
    "Tips:\n",
    "Mine will be always at index 0, and Base at last index.\n",
    "Workers always spends one tick/time at base, in mine, or traveling one cell.\n",
    "There will be no test where workers spawn in collision, base or mine. Currently there is no chance to get a random input that will have # or * in it. But the principle is very simple.\n",
    "Character # means that two workers are on same tile, and one goes to right and other to left(opposite dirrection).\n",
    "Character * means that the worker already arrived at one of the destionation so he will go to other one(mine to base or vice versa).\n",
    "I'm still thinking if I should add more complex random tests that place workers anywhere at the start. Let me know your oppinion in discussions.\n",
    "\n",
    "For better understanding check Example Tests for each case with comments inside. Good luck and be ready to work!"
   ]
  },
  {
   "cell_type": "code",
   "execution_count": 20,
   "metadata": {},
   "outputs": [
    {
     "data": {
      "text/plain": [
       "['M..<B',\n",
       " 'M.<.B',\n",
       " 'M<..B',\n",
       " '*...B',\n",
       " 'M>..B',\n",
       " 'M.>.B',\n",
       " 'M..>B',\n",
       " 'M...*',\n",
       " 'M..<B']"
      ]
     },
     "execution_count": 20,
     "metadata": {},
     "output_type": "execute_result"
    }
   ],
   "source": [
    "class Mining:\n",
    "    def __init__(self, path, time) -> None:\n",
    "        self.n = len(path)\n",
    "        self._map = tuple([\"M\"] + [\".\"] * (self.n - 2) + [\"B\"])\n",
    "\n",
    "        self.workers = [Worker(x, d) for x, d in enumerate(path) if d in \"<>\"]\n",
    "\n",
    "        self.time = time\n",
    "\n",
    "    def sim_step(self):\n",
    "        step_map = list(self._map)\n",
    "\n",
    "        for worker in self.workers:\n",
    "            if worker.x == 0 or worker.x == self.n - 1:\n",
    "                step_map[worker.x] = '*'\n",
    "                if worker.x == 0:\n",
    "                    worker.x += 1\n",
    "                    worker.d = '>'\n",
    "                else:\n",
    "                    worker.x -= 1\n",
    "                    worker.d = '<'\n",
    "            elif step_map[worker.x] == '.':\n",
    "                step_map[worker.x] = worker.d\n",
    "                worker.x += 1 if worker.d == '>' else -1\n",
    "            else:\n",
    "                step_map[worker.x] = '#'\n",
    "                worker.x += 1 if worker.d == '>' else -1\n",
    "                \n",
    "        return ''.join(step_map)\n",
    "        \n",
    "\n",
    "\n",
    "    def simulate(self):\n",
    "        result = []\n",
    "        for _ in range(self.time):\n",
    "            result.append(self.sim_step())\n",
    "\n",
    "        return result\n",
    "\n",
    "\n",
    "class Worker:\n",
    "    def __init__(self, x, d) -> None:\n",
    "        self.x = x\n",
    "        self.d = d\n",
    "\n",
    "\n",
    "def simulate_mining(path, time):\n",
    "\n",
    "    M = Mining(path, time)\n",
    "    result = M.simulate()\n",
    "\n",
    "    return result\n",
    "\n",
    "\n",
    "simulate_mining(\"M..<B\", 9)"
   ]
  },
  {
   "cell_type": "code",
   "execution_count": 10,
   "metadata": {},
   "outputs": [
    {
     "data": {
      "text/plain": [
       "[(1, '>'), (3, '<')]"
      ]
     },
     "execution_count": 10,
     "metadata": {},
     "output_type": "execute_result"
    }
   ],
   "source": [
    "path = \"M>.<B\"\n",
    "[Worker(x, d) for x, d in enumerate(path) if d in \"<>\"]"
   ]
  },
  {
   "cell_type": "code",
   "execution_count": 4,
   "metadata": {},
   "outputs": [
    {
     "data": {
      "text/plain": [
       "-12"
      ]
     },
     "execution_count": 4,
     "metadata": {},
     "output_type": "execute_result"
    }
   ],
   "source": [
    "n = -14\n",
    "m = 6\n",
    "\n",
    "j = n // abs(n)\n",
    "n = abs(n)\n",
    "m = abs(m)\n",
    "\n",
    "if n % m >= m // 2:\n",
    "    ans = (n + (m - (n % m))) * j\n",
    "else:\n",
    "    ans = (n - (n % m)) * j\n",
    "\n",
    "ans"
   ]
  }
 ],
 "metadata": {
  "kernelspec": {
   "display_name": "Python 3",
   "language": "python",
   "name": "python3"
  },
  "language_info": {
   "codemirror_mode": {
    "name": "ipython",
    "version": 3
   },
   "file_extension": ".py",
   "mimetype": "text/x-python",
   "name": "python",
   "nbconvert_exporter": "python",
   "pygments_lexer": "ipython3",
   "version": "3.11.6"
  }
 },
 "nbformat": 4,
 "nbformat_minor": 2
}
