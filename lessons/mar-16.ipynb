{
 "cells": [
  {
   "cell_type": "markdown",
   "metadata": {},
   "source": [
    "# File in/out"
   ]
  },
  {
   "cell_type": "code",
   "execution_count": 2,
   "metadata": {},
   "outputs": [
    {
     "data": {
      "text/plain": [
       "'~/.ssh/id_rsa.pub'"
      ]
     },
     "execution_count": 2,
     "metadata": {},
     "output_type": "execute_result"
    }
   ],
   "source": [
    "'~/.ssh/id_rsa.pub' # unix"
   ]
  },
  {
   "cell_type": "code",
   "execution_count": 4,
   "metadata": {},
   "outputs": [
    {
     "ename": "SyntaxError",
     "evalue": "(unicode error) 'unicodeescape' codec can't decode bytes in position 2-3: truncated \\UXXXXXXXX escape (4126679508.py, line 1)",
     "output_type": "error",
     "traceback": [
      "\u001b[0;36m  Cell \u001b[0;32mIn[4], line 1\u001b[0;36m\u001b[0m\n\u001b[0;31m    'c:\\Users\\gleb\\id_rsa.pub' #windows\u001b[0m\n\u001b[0m                               ^\u001b[0m\n\u001b[0;31mSyntaxError\u001b[0m\u001b[0;31m:\u001b[0m (unicode error) 'unicodeescape' codec can't decode bytes in position 2-3: truncated \\UXXXXXXXX escape\n"
     ]
    }
   ],
   "source": [
    "'c:\\Users\\gleb\\id_rsa.pub' #windows"
   ]
  },
  {
   "cell_type": "code",
   "execution_count": 6,
   "metadata": {},
   "outputs": [
    {
     "name": "stdout",
     "output_type": "stream",
     "text": [
      "c:\\Users\\gleb\\id_rsa.pub\n"
     ]
    }
   ],
   "source": [
    "print('c:\\\\Users\\\\gleb\\\\id_rsa.pub')"
   ]
  },
  {
   "cell_type": "code",
   "execution_count": 7,
   "metadata": {},
   "outputs": [
    {
     "name": "stdout",
     "output_type": "stream",
     "text": [
      "c:\\Users\\gleb\\id_rsa.pub\n"
     ]
    }
   ],
   "source": [
    "print(r'c:\\Users\\gleb\\id_rsa.pub')"
   ]
  },
  {
   "cell_type": "markdown",
   "metadata": {},
   "source": [
    "## Open file"
   ]
  },
  {
   "cell_type": "code",
   "execution_count": 10,
   "metadata": {},
   "outputs": [
    {
     "data": {
      "text/plain": [
       "<_io.TextIOWrapper name='mar-16.txt' mode='r' encoding='UTF-8'>"
      ]
     },
     "execution_count": 10,
     "metadata": {},
     "output_type": "execute_result"
    }
   ],
   "source": [
    "fp = open('mar-16.txt', 'r')\n",
    "fp"
   ]
  },
  {
   "cell_type": "markdown",
   "metadata": {},
   "source": [
    "Modes:\n",
    "* `'r'` - read чтение\n",
    "* `'w'` - write запись\n",
    "* `'a'` - append добавление в конец\n",
    "* `'x'` - create создание\n",
    "* `'t'` - text\n",
    "* `'b'` - binary\n",
    "\n",
    "Режим по-умолчанию `'rt'`"
   ]
  },
  {
   "cell_type": "code",
   "execution_count": 11,
   "metadata": {},
   "outputs": [],
   "source": [
    "fp.close()"
   ]
  },
  {
   "cell_type": "code",
   "execution_count": 13,
   "metadata": {},
   "outputs": [
    {
     "data": {
      "text/plain": [
       "True"
      ]
     },
     "execution_count": 13,
     "metadata": {},
     "output_type": "execute_result"
    }
   ],
   "source": [
    "with open('mar-16.txt', 'r') as fp1:\n",
    "    pass\n",
    "\n",
    "fp1.closed"
   ]
  },
  {
   "cell_type": "code",
   "execution_count": 19,
   "metadata": {},
   "outputs": [
    {
     "name": "stdout",
     "output_type": "stream",
     "text": [
      "try\n",
      "except\n",
      "finally\n",
      "after\n"
     ]
    }
   ],
   "source": [
    "fp2 = open('mar-16.txt', 'r')\n",
    "\n",
    "try:\n",
    "    print('try')\n",
    "    a = 10 / 0\n",
    "    pass\n",
    "except:\n",
    "    print('except')\n",
    "finally:\n",
    "    print('finally')\n",
    "    fp2.close()\n",
    "\n",
    "print('after')"
   ]
  },
  {
   "cell_type": "markdown",
   "metadata": {},
   "source": [
    "## Read"
   ]
  },
  {
   "cell_type": "code",
   "execution_count": 26,
   "metadata": {},
   "outputs": [
    {
     "name": "stdout",
     "output_type": "stream",
     "text": [
      "This is some text\n",
      "This is some other text\n",
      "This is some text on third line\n",
      "<class 'str'>\n"
     ]
    },
    {
     "data": {
      "text/plain": [
       "'This is some text\\nThis is some other text\\nThis is some text on third line'"
      ]
     },
     "execution_count": 26,
     "metadata": {},
     "output_type": "execute_result"
    }
   ],
   "source": [
    "with open('mar-16.txt', 'r') as fp:\n",
    "    text = fp.read()\n",
    "    print(text)\n",
    "    print(type(text))\n",
    "text"
   ]
  },
  {
   "cell_type": "code",
   "execution_count": 32,
   "metadata": {},
   "outputs": [
    {
     "name": "stdout",
     "output_type": "stream",
     "text": [
      "This is some text\n",
      "\n",
      "<class 'str'>\n",
      "This is some other text\n",
      "\n",
      "This is some text on third line\n",
      "\n"
     ]
    },
    {
     "data": {
      "text/plain": [
       "''"
      ]
     },
     "execution_count": 32,
     "metadata": {},
     "output_type": "execute_result"
    }
   ],
   "source": [
    "with open('mar-16.txt', 'r') as fp:\n",
    "    text = fp.readline()\n",
    "    print(text)\n",
    "    print(type(text))\n",
    "\n",
    "    text = fp.readline()\n",
    "    print(text)\n",
    "\n",
    "    text = fp.readline()\n",
    "    print(text)\n",
    "\n",
    "text"
   ]
  },
  {
   "cell_type": "code",
   "execution_count": 37,
   "metadata": {},
   "outputs": [
    {
     "name": "stdout",
     "output_type": "stream",
     "text": [
      "['This is some text\\n', 'This is some other text\\n', 'This is some text on third line']\n",
      "<class 'list'>\n"
     ]
    },
    {
     "data": {
      "text/plain": [
       "'This is some text\\n'"
      ]
     },
     "execution_count": 37,
     "metadata": {},
     "output_type": "execute_result"
    }
   ],
   "source": [
    "with open('mar-16.txt', 'r') as fp:\n",
    "    text = fp.readlines()\n",
    "    print(text)\n",
    "    print(type(text))\n",
    "\n",
    "text[0]"
   ]
  },
  {
   "cell_type": "code",
   "execution_count": 40,
   "metadata": {},
   "outputs": [
    {
     "name": "stdout",
     "output_type": "stream",
     "text": [
      "This is some text\n",
      "\n",
      "This is some other text\n",
      "\n",
      "This is some text on third line\n"
     ]
    }
   ],
   "source": [
    "with open('mar-16.txt', 'r') as fp:\n",
    "    for line in fp:\n",
    "        print(line)"
   ]
  },
  {
   "cell_type": "markdown",
   "metadata": {},
   "source": [
    "## Write"
   ]
  },
  {
   "cell_type": "code",
   "execution_count": 72,
   "metadata": {},
   "outputs": [],
   "source": [
    "with open('mar-16.txt', 'a') as fp:\n",
    "    fp.write('Write something\\n')"
   ]
  },
  {
   "cell_type": "code",
   "execution_count": 74,
   "metadata": {},
   "outputs": [],
   "source": [
    "with open('mar-16.txt', 'a') as fp:\n",
    "    arr = [str(i) + '\\n' for i in range(10)]\n",
    "    fp.writelines(arr)"
   ]
  },
  {
   "cell_type": "markdown",
   "metadata": {},
   "source": [
    "# With"
   ]
  },
  {
   "cell_type": "code",
   "execution_count": 79,
   "metadata": {},
   "outputs": [
    {
     "name": "stdout",
     "output_type": "stream",
     "text": [
      "0\n",
      "\n",
      "1\n",
      "\n",
      "2\n",
      "\n",
      "3\n",
      "\n",
      "4\n",
      "\n",
      "5\n",
      "\n",
      "6\n",
      "\n",
      "7\n",
      "\n",
      "8\n",
      "\n",
      "9\n",
      "\n"
     ]
    }
   ],
   "source": [
    "with open('mar-16.txt', 'r') as fr, \\\n",
    "     open('mar-16.txt', 'w') as fw:\n",
    "    arr = [str(i) + '\\n' for i in range(10)]\n",
    "    fw.writelines(arr)\n",
    "\n",
    "    fw.flush()  # force write\n",
    "\n",
    "    for line in fr:\n",
    "        print(line)"
   ]
  },
  {
   "cell_type": "code",
   "execution_count": 34,
   "metadata": {},
   "outputs": [
    {
     "data": {
      "text/plain": [
       "(10, 20)"
      ]
     },
     "execution_count": 34,
     "metadata": {},
     "output_type": "execute_result"
    }
   ],
   "source": [
    "class Test:\n",
    "    a = 10\n",
    "\n",
    "    def __init__(self):\n",
    "        self.b = 20\n",
    "\n",
    "    @staticmethod\n",
    "    def add(a, c):\n",
    "        return a + b\n",
    "\n",
    "    def sub(self):\n",
    "        return self.a - self.b\n",
    "\n",
    "    def class_add(self):\n",
    "        return self.add(10, 20)\n",
    "\n",
    "\n",
    "t = Test()\n",
    "\n",
    "Test.add(10, 20), t.sub(),"
   ]
  }
 ],
 "metadata": {
  "kernelspec": {
   "display_name": "Python 3",
   "language": "python",
   "name": "python3"
  },
  "language_info": {
   "codemirror_mode": {
    "name": "ipython",
    "version": 3
   },
   "file_extension": ".py",
   "mimetype": "text/x-python",
   "name": "python",
   "nbconvert_exporter": "python",
   "pygments_lexer": "ipython3",
   "version": "3.11.6"
  }
 },
 "nbformat": 4,
 "nbformat_minor": 2
}
