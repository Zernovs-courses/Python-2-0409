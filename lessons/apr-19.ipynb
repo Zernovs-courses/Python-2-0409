{
 "cells": [
  {
   "cell_type": "markdown",
   "metadata": {},
   "source": [
    "https://www.codewars.com/kata/51b66044bce5799a7f000003/train/python\n",
    "\n",
    "Write two functions that convert a roman numeral to and from an integer value. Multiple roman numeral values will be tested for each function.\n",
    "\n",
    "Modern Roman numerals are written by expressing each digit separately starting with the left most digit and skipping any digit with a value of zero. In Roman numerals:\n",
    "\n",
    "1990 is rendered: 1000=M, 900=CM, 90=XC; resulting in MCMXC\n",
    "2008 is written as 2000=MM, 8=VIII; or MMVIII\n",
    "1666 uses each Roman symbol in descending order: MDCLXVI.\n",
    "Input range : 1 <= n < 4000\n",
    "\n",
    "In this kata 4 should be represented as IV, NOT as IIII (the \"watchmaker's four\").\n",
    "\n",
    "Examples\n",
    "```console\n",
    "to roman:\n",
    "2000 -> \"MM\"\n",
    "1666 -> \"MDCLXVI\"\n",
    "  86 -> \"LXXXVI\"\n",
    "   1 -> \"I\"\n",
    "\n",
    "from roman:\n",
    "\"MM\"      -> 2000\n",
    "\"MDCLXVI\" -> 1666\n",
    "\"LXXXVI\"  ->   86\n",
    "\"I\"       ->    1\n",
    "```\n",
    "\n",
    "Help\n",
    "```console\n",
    "+--------+-------+\n",
    "| Symbol | Value |\n",
    "+--------+-------+\n",
    "|    M   |  1000 |\n",
    "|   CM   |   900 |\n",
    "|    D   |   500 |\n",
    "|   CD   |   400 |\n",
    "|    C   |   100 |\n",
    "|   XC   |    90 |\n",
    "|    L   |    50 |\n",
    "|   XL   |    40 |\n",
    "|    X   |    10 |\n",
    "|   IX   |     9 |\n",
    "|    V   |     5 |\n",
    "|   IV   |     4 |\n",
    "|    I   |     1 |\n",
    "+--------+-------+\n",
    "```"
   ]
  },
  {
   "cell_type": "code",
   "execution_count": 10,
   "metadata": {},
   "outputs": [
    {
     "name": "stdout",
     "output_type": "stream",
     "text": [
      "1000\tM\n",
      "4\tIV\n",
      "1\tI\n",
      "1990\tMCMXC\n",
      "2008\tMMVIII\n"
     ]
    },
    {
     "ename": "AssertionError",
     "evalue": "",
     "output_type": "error",
     "traceback": [
      "\u001b[0;31m---------------------------------------------------------------------------\u001b[0m",
      "\u001b[0;31mAssertionError\u001b[0m                            Traceback (most recent call last)",
      "Cell \u001b[0;32mIn[10], line 46\u001b[0m\n\u001b[1;32m     44\u001b[0m do_test(\u001b[38;5;241m1990\u001b[39m, \u001b[38;5;124m\"\u001b[39m\u001b[38;5;124mMCMXC\u001b[39m\u001b[38;5;124m\"\u001b[39m)\n\u001b[1;32m     45\u001b[0m do_test(\u001b[38;5;241m2008\u001b[39m, \u001b[38;5;124m\"\u001b[39m\u001b[38;5;124mMMVIII\u001b[39m\u001b[38;5;124m\"\u001b[39m)\n\u001b[0;32m---> 46\u001b[0m \u001b[43mdo_test\u001b[49m\u001b[43m(\u001b[49m\u001b[38;5;124;43m\"\u001b[39;49m\u001b[38;5;124;43mXXI\u001b[39;49m\u001b[38;5;124;43m\"\u001b[39;49m\u001b[43m,\u001b[49m\u001b[43m \u001b[49m\u001b[38;5;241;43m21\u001b[39;49m\u001b[43m)\u001b[49m\n\u001b[1;32m     47\u001b[0m do_test(\u001b[38;5;124m\"\u001b[39m\u001b[38;5;124mI\u001b[39m\u001b[38;5;124m\"\u001b[39m, \u001b[38;5;241m1\u001b[39m)\n\u001b[1;32m     48\u001b[0m do_test(\u001b[38;5;124m\"\u001b[39m\u001b[38;5;124mIV\u001b[39m\u001b[38;5;124m\"\u001b[39m, \u001b[38;5;241m4\u001b[39m)\n",
      "Cell \u001b[0;32mIn[10], line 38\u001b[0m, in \u001b[0;36mdo_test\u001b[0;34m(input, expected)\u001b[0m\n\u001b[1;32m     36\u001b[0m func \u001b[38;5;241m=\u001b[39m RomanNumerals\u001b[38;5;241m.\u001b[39mto_roman \u001b[38;5;28;01mif\u001b[39;00m \u001b[38;5;28mtype\u001b[39m(\u001b[38;5;28minput\u001b[39m) \u001b[38;5;129;01mis\u001b[39;00m \u001b[38;5;28mint\u001b[39m \u001b[38;5;28;01melse\u001b[39;00m RomanNumerals\u001b[38;5;241m.\u001b[39mfrom_roman\n\u001b[1;32m     37\u001b[0m actual \u001b[38;5;241m=\u001b[39m func(\u001b[38;5;28minput\u001b[39m)\n\u001b[0;32m---> 38\u001b[0m \u001b[38;5;28;01massert\u001b[39;00m actual \u001b[38;5;241m==\u001b[39m expected\n",
      "\u001b[0;31mAssertionError\u001b[0m: "
     ]
    }
   ],
   "source": [
    "class RomanNumerals:\n",
    "    symbols = {\n",
    "        \"M\": 1000,\n",
    "        \"CM\": 900,\n",
    "        \"D\": 500,\n",
    "        \"CD\": 400,\n",
    "        \"C\": 100,\n",
    "        \"XC\": 90,\n",
    "        \"L\": 50,\n",
    "        \"XL\": 40,\n",
    "        \"X\": 10,\n",
    "        \"IX\": 9,\n",
    "        \"V\": 5,\n",
    "        \"IV\": 4,\n",
    "        \"I\": 1,\n",
    "    }\n",
    "\n",
    "    @staticmethod\n",
    "    def to_roman(val: int) -> str:\n",
    "        print(val, end='\\t')\n",
    "        rom = ''\n",
    "        for k, v in sorted(RomanNumerals.symbols.items(), key=lambda x: x[1], reverse=True):\n",
    "            if val >= v:\n",
    "                rom += k * (val // v)\n",
    "                val -= v * (val // v)\n",
    "\n",
    "        print(rom)\n",
    "        return rom\n",
    "\n",
    "    @staticmethod\n",
    "    def from_roman(roman_num: str) -> int:\n",
    "        return 0\n",
    "\n",
    "\n",
    "def do_test(input, expected):\n",
    "    func = RomanNumerals.to_roman if type(input) is int else RomanNumerals.from_roman\n",
    "    actual = func(input)\n",
    "    assert actual == expected\n",
    "\n",
    "\n",
    "do_test(1000, \"M\")\n",
    "do_test(4, \"IV\")\n",
    "do_test(1, \"I\")\n",
    "do_test(1990, \"MCMXC\")\n",
    "do_test(2008, \"MMVIII\")\n",
    "do_test(\"XXI\", 21)\n",
    "do_test(\"I\", 1)\n",
    "do_test(\"IV\", 4)\n",
    "do_test(\"MMVIII\", 2008)\n",
    "do_test(\"MDCLXVI\", 1666)"
   ]
  },
  {
   "cell_type": "code",
   "execution_count": 6,
   "metadata": {},
   "outputs": [
    {
     "data": {
      "text/plain": [
       "dict_items([('M', 1000), ('CM', 900), ('D', 500), ('CD', 400), ('C', 100), ('XC', 90), ('L', 50), ('XL', 40), ('X', 10), ('IX', 9), ('V', 5), ('IV', 4), ('I', 1)])"
      ]
     },
     "execution_count": 6,
     "metadata": {},
     "output_type": "execute_result"
    }
   ],
   "source": [
    "RomanNumerals.symbols.items()"
   ]
  },
  {
   "cell_type": "markdown",
   "metadata": {},
   "source": [
    "https://www.codewars.com/kata/515bb423de843ea99400000a/train/python"
   ]
  },
  {
   "cell_type": "code",
   "execution_count": 11,
   "metadata": {},
   "outputs": [],
   "source": [
    "from math import ceil\n",
    "\n",
    "class PaginationHelper:\n",
    "    \n",
    "    # The constructor takes in an array of items and an integer indicating\n",
    "    # how many items fit within a single page\n",
    "    def __init__(self, collection, items_per_page):\n",
    "        self.collection = collection\n",
    "        self.items = len(collection)\n",
    "        \n",
    "        self.items_per_page = items_per_page\n",
    "        self.pages = ceil(self.items / items_per_page)\n",
    "        \n",
    "        self.pages_list = [items_per_page] * (self.items // items_per_page) \\\n",
    "            + ([self.items % items_per_page] if self.items % items_per_page else [])\n",
    "    \n",
    "    # returns the number of items within the entire collection\n",
    "    def item_count(self):\n",
    "        return self.items\n",
    "    \n",
    "    # returns the number of pages\n",
    "    def page_count(self):\n",
    "        return self.pages\n",
    "    \n",
    "    # returns the number of items on the given page. page_index is zero based\n",
    "    # this method should return -1 for page_index values that are out of range\n",
    "    def page_item_count(self, page_index):\n",
    "        print(page_index, self.pages_list)\n",
    "        if 0 <= page_index < self.pages and self.items > 0:\n",
    "            return self.pages_list[page_index]\n",
    "        \n",
    "        return -1\n",
    "    \n",
    "    # determines what page an item at the given index is on. Zero based indexes.\n",
    "    # this method should return -1 for item_index values that are out of range\n",
    "    def page_index(self, item_index):\n",
    "        if self.items > 0 and 0 <= item_index < self.items:\n",
    "            return item_index // self.items_per_page\n",
    "        return -1\n"
   ]
  },
  {
   "cell_type": "code",
   "execution_count": 10,
   "metadata": {},
   "outputs": [
    {
     "data": {
      "text/plain": [
       "[4]"
      ]
     },
     "execution_count": 10,
     "metadata": {},
     "output_type": "execute_result"
    }
   ],
   "source": [
    "items_per_page = 4\n",
    "items = 4\n",
    "pages_list = [items_per_page] * (items // items_per_page) \\\n",
    "            + ([items % items_per_page] if items % items_per_page else [])\n",
    "\n",
    "pages_list"
   ]
  }
 ],
 "metadata": {
  "kernelspec": {
   "display_name": "Python 3",
   "language": "python",
   "name": "python3"
  },
  "language_info": {
   "codemirror_mode": {
    "name": "ipython",
    "version": 3
   },
   "file_extension": ".py",
   "mimetype": "text/x-python",
   "name": "python",
   "nbconvert_exporter": "python",
   "pygments_lexer": "ipython3",
   "version": "3.11.6"
  }
 },
 "nbformat": 4,
 "nbformat_minor": 2
}
